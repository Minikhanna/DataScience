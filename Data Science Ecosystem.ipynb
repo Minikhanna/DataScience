{
 "cells": [
  {
   "cell_type": "markdown",
   "id": "b12c5f7d",
   "metadata": {},
   "source": [
    "![tile.png](info.png)\n"
   ]
  },
  {
   "cell_type": "markdown",
   "id": "d7713b9b",
   "metadata": {},
   "source": [
    "![3-intro.png](byauthor.png)"
   ]
  },
  {
   "cell_type": "markdown",
   "id": "2855f46a",
   "metadata": {},
   "source": [
    "Some of the popular languages that Data Scientists use are:"
   ]
  },
  {
   "cell_type": "markdown",
   "id": "9d5e0e3f",
   "metadata": {},
   "source": [
    "1. Python\n",
    "2. Java\n",
    "3. R\n",
    "4. Julia"
   ]
  },
  {
   "cell_type": "markdown",
   "id": "4399b009",
   "metadata": {},
   "source": [
    "Some of the commonly used libraries used by Data Scientists include\n",
    "1. SciPy\n",
    "2. SpaCy\n",
    "3. NLTK\n",
    "4. TensorFlow\n",
    "5. Keras"
   ]
  },
  {
   "cell_type": "markdown",
   "id": "36fd444a",
   "metadata": {},
   "source": [
    "| Sr. No.| Data science Tools|\n",
    "|--------|-------------------|\n",
    "| 1. | Pytorch|\n",
    "| 2. |Jupyter|\n",
    "| 3. | IBM Watson |\n",
    "\n",
    "\n"
   ]
  },
  {
   "cell_type": "markdown",
   "id": "1de49eb7",
   "metadata": {},
   "source": [
    "### Below are a few examples of evaluating arithmetic expressions in Python"
   ]
  },
  {
   "cell_type": "markdown",
   "id": "71e4b29a",
   "metadata": {},
   "source": [
    " This a simple arithmetic expression to mutiply then add integers"
   ]
  },
  {
   "cell_type": "code",
   "execution_count": 3,
   "id": "59cefc7e",
   "metadata": {},
   "outputs": [
    {
     "data": {
      "text/plain": [
       "17"
      ]
     },
     "execution_count": 3,
     "metadata": {},
     "output_type": "execute_result"
    }
   ],
   "source": [
    "(3*4)+5"
   ]
  },
  {
   "cell_type": "markdown",
   "id": "03776aff",
   "metadata": {},
   "source": [
    " This will convert 200 minutes to hours by diving by 60"
   ]
  },
  {
   "cell_type": "code",
   "execution_count": 4,
   "id": "8563cf8e",
   "metadata": {},
   "outputs": [
    {
     "data": {
      "text/plain": [
       "3.3333333333333335"
      ]
     },
     "execution_count": 4,
     "metadata": {},
     "output_type": "execute_result"
    }
   ],
   "source": [
    "200/60"
   ]
  },
  {
   "cell_type": "markdown",
   "id": "44d21c53",
   "metadata": {},
   "source": [
    "**Objective**\n"
   ]
  },
  {
   "cell_type": "markdown",
   "id": "41e93eeb",
   "metadata": {},
   "source": [
    "List popular languages for Data Science"
   ]
  },
  {
   "cell_type": "markdown",
   "id": "7661efbe",
   "metadata": {},
   "source": [
    "* Python\n",
    "* Machine Learning\n",
    "* R\n",
    "* Julia\n",
    "* IBM Watson\n"
   ]
  },
  {
   "cell_type": "markdown",
   "id": "10d22380",
   "metadata": {},
   "source": [
    "## Author\n",
    "Lakshmi Holla"
   ]
  },
  {
   "cell_type": "markdown",
   "id": "d6349c29",
   "metadata": {},
   "source": [
    "Niveditha Pandith"
   ]
  }
 ],
 "metadata": {
  "kernelspec": {
   "display_name": "Python 3",
   "language": "python",
   "name": "python3"
  },
  "language_info": {
   "codemirror_mode": {
    "name": "ipython",
    "version": 3
   },
   "file_extension": ".py",
   "mimetype": "text/x-python",
   "name": "python",
   "nbconvert_exporter": "python",
   "pygments_lexer": "ipython3",
   "version": "3.13.4"
  }
 },
 "nbformat": 4,
 "nbformat_minor": 5
}
